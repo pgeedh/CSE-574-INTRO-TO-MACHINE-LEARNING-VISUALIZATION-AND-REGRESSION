{
  "cells": [
    {
      "cell_type": "markdown",
      "id": "ad98dcd8",
      "metadata": {
        "id": "ad98dcd8"
      },
      "source": [
        "<div align=\"center\"> <h3><font color='blue'>CSE 574: Introduction to Machine Learning, Summer 2022 </font> \n",
        "<h1> Assignment 2 - Regression Methods\n",
        "\n",
        "<h2><font color='red'>Due Date: </font> June 17, Friday, 11:59pm ET</div>\n",
        "\n",
        "Our second assignment is focused on learning how to build regression models from\n",
        "scratch. In the first part of the assignment, you are expected to preprocess, analyze\n",
        "visualize datasets, this is one of the first and core steps in machine learning pipeline. In\n",
        "the second part, you will implement linear regression using ordinary least squares and\n",
        "in the third part, you will extend it to a ridge regression model.\n",
        "The goal of this assignment is to practice performing data analysis, implementing, and\n",
        "understanding the practical implementation of different regression models.\n",
        "For this assignment, sklearn or any other libraries with in-built functions that help to\n",
        "implement ML methods cannot be used. Submissions with used ML libraries (e.g.\n",
        "sklearn) will not be evaluated.\n",
        "If you are new to Python, check our [Python resources page](https://ubuffalo-my.sharepoint.com/:w:/g/personal/avereshc_buffalo_edu/ESoUg6v6aoJImaeWXy90SqMBiubxGGAkG7dhaNyhuBum_w?e=3Tlwbz).\n",
        "\n",
        "\n",
        "\n",
        "###Part I: Data Analysis [20 points]\n",
        "In this part, we explore how to load, process, visualize and analyze different types of\n",
        "datasets. Data preprocessing and visualizing are some of the core parts of the machine\n",
        "learning pipeline.\n",
        "Select any TWO datasets from the list below and provide a data analysis. All datasets\n",
        "are provided in the folder.\n",
        "\n",
        "• Amazon Top Selling Book dataset\n",
        "\n",
        "• Netflix dataset\n",
        "\n",
        "• Diamond dataset\n",
        "\n",
        "• Titanic dataset\n",
        "\n",
        "• Wine Quality dataset\n",
        "\n",
        "• Insurance dataset\n",
        "\n",
        "###STEPS\n",
        "1. Pick a dataset from the list above\n",
        "2. In your Jupyter Notebook or .py script, define a section as ‘Part I: Data Analysis –\n",
        "YOUR DATASET NAME’\n",
        "3. Load a dataset (e.g. pd.read_csv())\n",
        "4. Using inbuilt functions in ‘pandas’ library, extract the main statistics about the\n",
        "dataset (more details). Use at least 5 functions (e.g. describe(), head()).\n",
        "5. Perform data preprocessing:\n",
        "a. Calculate the sum of missing entries in the dataset (e.g.\n",
        "isnull().sum(axis=0))\n",
        "b. If applicable, for missing values:\n",
        "i. Fill the missing values with the most frequent value or\n",
        "ii. Drop the rows with missing values (e.g. dropna())\n",
        "6. If applicable: convert the columns with datatype string to data type categorical\n",
        "7. Using any data visualization library (e.g. matplotlib, seaborn, plotly), provide at\n",
        "least 5 visualization graphs related to your dataset. You can utilize any columns\n",
        "or a combination of columns in your dataset to generate graphs. E.g., correlation\n",
        "matrix, features vs the target, counts of categorical features vs the target.\n",
        "8. Go to Step 1. Altogether, you should provide data analysis for TWO datasets.\n",
        "\n",
        "\n",
        "###In your report for Part I\n",
        "For each dataset:\n",
        "1. Provide brief details about the nature of your dataset. What is it about? What\n",
        "type of data are we encountering? How many entries and variables does the\n",
        "dataset comprise?\n",
        "2. Provide the main statistics about the entries of the dataset (mean, std, number of\n",
        "missing values, etc.)\n",
        "3. Provide at least 5 visualization graphs with short description for each graph, e.g.,\n",
        "discuss if there any interesting patterns or correlations.\n",
        "\n",
        "\n",
        "###Part I submission includes:\n",
        "- Report (as a pdf file)\n",
        "- Jupyter Notebook (.ipynb) or python script .py – one file for the TWO datasets\n",
        "with all saved outputs\n",
        " \n",
        "\n",
        "##Part II: Linear Regression [50 points]\n",
        "Implement linear regression using the ordinary least squares (OLS) method to perform\n",
        "direct minimization of the squared loss function.\n",
        "𝐽(𝒘) = ∑(𝑦𝑖 − 𝑤𝑇𝑥𝑖)\n",
        "2\n",
        "𝑁\n",
        "𝑖=1\n",
        "In matrix-vector notation, the loss function can be written as:\n",
        "𝐽(𝒘) = (𝑦 − 𝑋𝑤)\n",
        "𝑇\n",
        "(𝑦 − 𝑋𝑤)\n",
        "Here 𝑿 is the input data matrix, 𝒚 is the target vector, and 𝒘 is the weight vector.\n",
        "Implement linear regression for one dataset using the following steps:\n",
        "Steps:\n",
        "1. Import required libraries (not allowed: sklearn or any other libraries with in-built\n",
        "functions that help to implement ML)\n",
        "2. Read, preprocess and print main statistic about the dataset (your code from Part\n",
        "I can be reused).\n",
        "3. Convert features with string datatype to categorical and normalize noncategorical features if needed.\n",
        "4. Choose your target 𝑦\n",
        "5. Create the data matrices for X (input) and 𝑦 (target) in a shape\n",
        "X = 𝑁 x (𝑑 + 1) and y = 𝑁 x 1, where 𝑁 is the number of data samples and 𝑑 is\n",
        "the number of features.\n",
        "6. Divide the dataset into training and test, as 80% - training, 20% - testing dataset.\n",
        "7. Print the shape of your X_train, y_train, X_test, y_test\n",
        "8. Calculate the weights with the OLS equation:\n",
        "𝒘 = (𝑿\n",
        "𝑇𝑿)\n",
        "−1𝑿\n",
        "𝑇𝒚\n",
        "9. Get the predictions and calculate the Root Mean Squared Error (RMSE):\n",
        "𝑅𝑀𝑆𝐸 = √\n",
        "1\n",
        "𝑁\n",
        "∑(𝑦𝑖 − 𝒘𝑇𝑥𝑖\n",
        ")\n",
        "2\n",
        "𝑁\n",
        "𝑖=1\n",
        "10.Plot the predictions vs the actual data.\n",
        "\n",
        "\n",
        "###In your report for Part II:\n",
        "1. Provide your loss value and the weight vector.\n",
        "2. Show the plot comparing the predictions vs the actual test data.\n",
        "3. Discuss the benefits/drawbacks of using OLS estimate for computing weights.\n",
        "\n",
        "\n",
        "###Part II Submission:\n",
        "- Report (as a pdf file) – combined with your report from Part I.\n",
        "- Jupyter Notebook (.ipynb) or python script .py with all saved outputs.\n",
        "\n",
        "\n",
        "### Academic Integrity\n",
        "\n",
        "This assignment must be completed individually.\n",
        "The standing policy of the Department is that all students involved in any academic integrity violation (e.g. plagiarism in any way, shape, or form) will receive an F grade for the course. The catalog describes plagiarism as “Copying or receiving material from any source and submitting that material as one’s own, without acknowledging and citing the particular debts to the source, or in any other manner representing the work of another as one’s own.”. Refer to the [Office of Academic Integrity](https://www.buffalo.edu/academic-integrity.html) for more details.\n",
        "\n",
        "    \n",
        "### Late Days Policy\n",
        "You can use up to 3 late days throughout the course toward any assignments. You do not have to inform the instructor, as the late submission will be tracked in UBlearns.\n",
        "\n",
        "### FAQ\n",
        ">What does 'raise Exception(\"Not implemented yet\")' mean?\n",
        "\n",
        "Here we define a custom exception to highlight that the task is not implemented yet. Once you implement your code, ensure to remove this part.\n",
        "\n",
        ">Can I add code beyond # BEGIN_YOUR_CODE parts.\n",
        "\n",
        "Yes, you can add helper functions. Add them in the separate cell with the comments, why you need it.\n"
      ]
    },
    {
      "cell_type": "markdown",
      "id": "37986b83",
      "metadata": {
        "id": "37986b83"
      },
      "source": [
        "**PART II: Logistic Regression-:**"
      ]
    },
    {
      "cell_type": "markdown",
      "source": [
        "###IMPORTING LIABRARIES"
      ],
      "metadata": {
        "id": "r44XFF89yVJs"
      },
      "id": "r44XFF89yVJs"
    },
    {
      "cell_type": "code",
      "execution_count": 2,
      "id": "52adf800",
      "metadata": {
        "id": "52adf800"
      },
      "outputs": [],
      "source": [
        "# Importing the required libraries\n",
        "import numpy as np\n",
        "import matplotlib.pyplot as plt\n",
        "import pandas as pd\n",
        "import plotly.express as px\n",
        "import plotly.graph_objects as go\n",
        "import seaborn as sn\n",
        "from numpy import log, e"
      ]
    },
    {
      "cell_type": "markdown",
      "source": [
        "###LOADING DATASET"
      ],
      "metadata": {
        "id": "xIZrQu0SyBDM"
      },
      "id": "xIZrQu0SyBDM"
    },
    {
      "cell_type": "code",
      "source": [
        "!pwd\n",
        "!ls"
      ],
      "metadata": {
        "colab": {
          "base_uri": "https://localhost:8080/"
        },
        "id": "6MSpAeMHyLFd",
        "outputId": "21689b8f-023a-4618-f689-63be63b355b2"
      },
      "id": "6MSpAeMHyLFd",
      "execution_count": 3,
      "outputs": [
        {
          "output_type": "stream",
          "name": "stdout",
          "text": [
            "/content\n",
            "sample_data\n"
          ]
        }
      ]
    },
    {
      "cell_type": "code",
      "source": [
        "from google.colab import drive\n",
        "drive.mount('/content/drive')\n",
        "%cd ..\n",
        "%cd /content/drive/MyDrive\n",
        "from google.colab import files\n",
        "uploaded = files.upload()\n",
        "print(\"dataset loaded\")"
      ],
      "metadata": {
        "colab": {
          "resources": {
            "http://localhost:8080/nbextensions/google.colab/files.js": {
              "data": "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",
              "ok": true,
              "headers": [
                [
                  "content-type",
                  "application/javascript"
                ]
              ],
              "status": 200,
              "status_text": ""
            }
          },
          "base_uri": "https://localhost:8080/",
          "height": 142
        },
        "id": "57jHg_Bdxu0J",
        "outputId": "fc5a372f-fe42-40d8-e9a0-5b1692867666"
      },
      "id": "57jHg_Bdxu0J",
      "execution_count": 4,
      "outputs": [
        {
          "output_type": "stream",
          "name": "stdout",
          "text": [
            "Mounted at /content/drive\n",
            "/\n",
            "/content/drive/MyDrive\n"
          ]
        },
        {
          "output_type": "display_data",
          "data": {
            "text/plain": [
              "<IPython.core.display.HTML object>"
            ],
            "text/html": [
              "\n",
              "     <input type=\"file\" id=\"files-2c941cd2-8885-4ca9-9105-f05d1a3e9356\" name=\"files[]\" multiple disabled\n",
              "        style=\"border:none\" />\n",
              "     <output id=\"result-2c941cd2-8885-4ca9-9105-f05d1a3e9356\">\n",
              "      Upload widget is only available when the cell has been executed in the\n",
              "      current browser session. Please rerun this cell to enable.\n",
              "      </output>\n",
              "      <script src=\"/nbextensions/google.colab/files.js\"></script> "
            ]
          },
          "metadata": {}
        },
        {
          "output_type": "stream",
          "name": "stdout",
          "text": [
            "Saving winequality-red.csv to winequality-red (5).csv\n",
            "dataset loaded\n"
          ]
        }
      ]
    },
    {
      "cell_type": "markdown",
      "source": [
        "###WINE DATASET (winequality-red.csv)"
      ],
      "metadata": {
        "id": "fVXOvL5qyImO"
      },
      "id": "fVXOvL5qyImO"
    },
    {
      "cell_type": "code",
      "execution_count": 5,
      "id": "2d505a61",
      "metadata": {
        "id": "2d505a61"
      },
      "outputs": [],
      "source": [
        "#Reading the dataset\n",
        "df_wine=pd.read_csv('winequality-red.csv')\n"
      ]
    },
    {
      "cell_type": "code",
      "source": [
        "#Printing the first 10 rows of the wine dataset using .head\n",
        "print(\"First 10 rows of  the wine datset:\")\n",
        "df_wine.head(10) #prints first 10 rows of the datset"
      ],
      "metadata": {
        "colab": {
          "base_uri": "https://localhost:8080/",
          "height": 479
        },
        "id": "1kKL5csPyr_d",
        "outputId": "93ec20ad-49e9-4f54-9fcb-1904987f26d6"
      },
      "id": "1kKL5csPyr_d",
      "execution_count": 6,
      "outputs": [
        {
          "output_type": "stream",
          "name": "stdout",
          "text": [
            "First 10 rows of  the wine datset:\n"
          ]
        },
        {
          "output_type": "execute_result",
          "data": {
            "text/plain": [
              "   fixed acidity  volatile acidity  citric acid  residual sugar  chlorides  \\\n",
              "0            7.4              0.70         0.00             1.9      0.076   \n",
              "1            7.8              0.88         0.00             2.6      0.098   \n",
              "2            7.8              0.76         0.04             2.3      0.092   \n",
              "3           11.2              0.28         0.56             1.9      0.075   \n",
              "4            7.4              0.70         0.00             1.9      0.076   \n",
              "5            7.4              0.66         0.00             1.8      0.075   \n",
              "6            7.9              0.60         0.06             1.6      0.069   \n",
              "7            7.3              0.65         0.00             1.2      0.065   \n",
              "8            7.8              0.58         0.02             2.0      0.073   \n",
              "9            7.5              0.50         0.36             6.1      0.071   \n",
              "\n",
              "   free sulfur dioxide  total sulfur dioxide  density    pH  sulphates  \\\n",
              "0                 11.0                  34.0   0.9978  3.51       0.56   \n",
              "1                 25.0                  67.0   0.9968  3.20       0.68   \n",
              "2                 15.0                  54.0   0.9970  3.26       0.65   \n",
              "3                 17.0                  60.0   0.9980  3.16       0.58   \n",
              "4                 11.0                  34.0   0.9978  3.51       0.56   \n",
              "5                 13.0                  40.0   0.9978  3.51       0.56   \n",
              "6                 15.0                  59.0   0.9964  3.30       0.46   \n",
              "7                 15.0                  21.0   0.9946  3.39       0.47   \n",
              "8                  9.0                  18.0   0.9968  3.36       0.57   \n",
              "9                 17.0                 102.0   0.9978  3.35       0.80   \n",
              "\n",
              "   alcohol  quality  \n",
              "0      9.4        5  \n",
              "1      9.8        5  \n",
              "2      9.8        5  \n",
              "3      9.8        6  \n",
              "4      9.4        5  \n",
              "5      9.4        5  \n",
              "6      9.4        5  \n",
              "7     10.0        7  \n",
              "8      9.5        7  \n",
              "9     10.5        5  "
            ],
            "text/html": [
              "\n",
              "  <div id=\"df-fd5abdf9-23c8-4a9c-a9d8-1349494a7da6\">\n",
              "    <div class=\"colab-df-container\">\n",
              "      <div>\n",
              "<style scoped>\n",
              "    .dataframe tbody tr th:only-of-type {\n",
              "        vertical-align: middle;\n",
              "    }\n",
              "\n",
              "    .dataframe tbody tr th {\n",
              "        vertical-align: top;\n",
              "    }\n",
              "\n",
              "    .dataframe thead th {\n",
              "        text-align: right;\n",
              "    }\n",
              "</style>\n",
              "<table border=\"1\" class=\"dataframe\">\n",
              "  <thead>\n",
              "    <tr style=\"text-align: right;\">\n",
              "      <th></th>\n",
              "      <th>fixed acidity</th>\n",
              "      <th>volatile acidity</th>\n",
              "      <th>citric acid</th>\n",
              "      <th>residual sugar</th>\n",
              "      <th>chlorides</th>\n",
              "      <th>free sulfur dioxide</th>\n",
              "      <th>total sulfur dioxide</th>\n",
              "      <th>density</th>\n",
              "      <th>pH</th>\n",
              "      <th>sulphates</th>\n",
              "      <th>alcohol</th>\n",
              "      <th>quality</th>\n",
              "    </tr>\n",
              "  </thead>\n",
              "  <tbody>\n",
              "    <tr>\n",
              "      <th>0</th>\n",
              "      <td>7.4</td>\n",
              "      <td>0.70</td>\n",
              "      <td>0.00</td>\n",
              "      <td>1.9</td>\n",
              "      <td>0.076</td>\n",
              "      <td>11.0</td>\n",
              "      <td>34.0</td>\n",
              "      <td>0.9978</td>\n",
              "      <td>3.51</td>\n",
              "      <td>0.56</td>\n",
              "      <td>9.4</td>\n",
              "      <td>5</td>\n",
              "    </tr>\n",
              "    <tr>\n",
              "      <th>1</th>\n",
              "      <td>7.8</td>\n",
              "      <td>0.88</td>\n",
              "      <td>0.00</td>\n",
              "      <td>2.6</td>\n",
              "      <td>0.098</td>\n",
              "      <td>25.0</td>\n",
              "      <td>67.0</td>\n",
              "      <td>0.9968</td>\n",
              "      <td>3.20</td>\n",
              "      <td>0.68</td>\n",
              "      <td>9.8</td>\n",
              "      <td>5</td>\n",
              "    </tr>\n",
              "    <tr>\n",
              "      <th>2</th>\n",
              "      <td>7.8</td>\n",
              "      <td>0.76</td>\n",
              "      <td>0.04</td>\n",
              "      <td>2.3</td>\n",
              "      <td>0.092</td>\n",
              "      <td>15.0</td>\n",
              "      <td>54.0</td>\n",
              "      <td>0.9970</td>\n",
              "      <td>3.26</td>\n",
              "      <td>0.65</td>\n",
              "      <td>9.8</td>\n",
              "      <td>5</td>\n",
              "    </tr>\n",
              "    <tr>\n",
              "      <th>3</th>\n",
              "      <td>11.2</td>\n",
              "      <td>0.28</td>\n",
              "      <td>0.56</td>\n",
              "      <td>1.9</td>\n",
              "      <td>0.075</td>\n",
              "      <td>17.0</td>\n",
              "      <td>60.0</td>\n",
              "      <td>0.9980</td>\n",
              "      <td>3.16</td>\n",
              "      <td>0.58</td>\n",
              "      <td>9.8</td>\n",
              "      <td>6</td>\n",
              "    </tr>\n",
              "    <tr>\n",
              "      <th>4</th>\n",
              "      <td>7.4</td>\n",
              "      <td>0.70</td>\n",
              "      <td>0.00</td>\n",
              "      <td>1.9</td>\n",
              "      <td>0.076</td>\n",
              "      <td>11.0</td>\n",
              "      <td>34.0</td>\n",
              "      <td>0.9978</td>\n",
              "      <td>3.51</td>\n",
              "      <td>0.56</td>\n",
              "      <td>9.4</td>\n",
              "      <td>5</td>\n",
              "    </tr>\n",
              "    <tr>\n",
              "      <th>5</th>\n",
              "      <td>7.4</td>\n",
              "      <td>0.66</td>\n",
              "      <td>0.00</td>\n",
              "      <td>1.8</td>\n",
              "      <td>0.075</td>\n",
              "      <td>13.0</td>\n",
              "      <td>40.0</td>\n",
              "      <td>0.9978</td>\n",
              "      <td>3.51</td>\n",
              "      <td>0.56</td>\n",
              "      <td>9.4</td>\n",
              "      <td>5</td>\n",
              "    </tr>\n",
              "    <tr>\n",
              "      <th>6</th>\n",
              "      <td>7.9</td>\n",
              "      <td>0.60</td>\n",
              "      <td>0.06</td>\n",
              "      <td>1.6</td>\n",
              "      <td>0.069</td>\n",
              "      <td>15.0</td>\n",
              "      <td>59.0</td>\n",
              "      <td>0.9964</td>\n",
              "      <td>3.30</td>\n",
              "      <td>0.46</td>\n",
              "      <td>9.4</td>\n",
              "      <td>5</td>\n",
              "    </tr>\n",
              "    <tr>\n",
              "      <th>7</th>\n",
              "      <td>7.3</td>\n",
              "      <td>0.65</td>\n",
              "      <td>0.00</td>\n",
              "      <td>1.2</td>\n",
              "      <td>0.065</td>\n",
              "      <td>15.0</td>\n",
              "      <td>21.0</td>\n",
              "      <td>0.9946</td>\n",
              "      <td>3.39</td>\n",
              "      <td>0.47</td>\n",
              "      <td>10.0</td>\n",
              "      <td>7</td>\n",
              "    </tr>\n",
              "    <tr>\n",
              "      <th>8</th>\n",
              "      <td>7.8</td>\n",
              "      <td>0.58</td>\n",
              "      <td>0.02</td>\n",
              "      <td>2.0</td>\n",
              "      <td>0.073</td>\n",
              "      <td>9.0</td>\n",
              "      <td>18.0</td>\n",
              "      <td>0.9968</td>\n",
              "      <td>3.36</td>\n",
              "      <td>0.57</td>\n",
              "      <td>9.5</td>\n",
              "      <td>7</td>\n",
              "    </tr>\n",
              "    <tr>\n",
              "      <th>9</th>\n",
              "      <td>7.5</td>\n",
              "      <td>0.50</td>\n",
              "      <td>0.36</td>\n",
              "      <td>6.1</td>\n",
              "      <td>0.071</td>\n",
              "      <td>17.0</td>\n",
              "      <td>102.0</td>\n",
              "      <td>0.9978</td>\n",
              "      <td>3.35</td>\n",
              "      <td>0.80</td>\n",
              "      <td>10.5</td>\n",
              "      <td>5</td>\n",
              "    </tr>\n",
              "  </tbody>\n",
              "</table>\n",
              "</div>\n",
              "      <button class=\"colab-df-convert\" onclick=\"convertToInteractive('df-fd5abdf9-23c8-4a9c-a9d8-1349494a7da6')\"\n",
              "              title=\"Convert this dataframe to an interactive table.\"\n",
              "              style=\"display:none;\">\n",
              "        \n",
              "  <svg xmlns=\"http://www.w3.org/2000/svg\" height=\"24px\"viewBox=\"0 0 24 24\"\n",
              "       width=\"24px\">\n",
              "    <path d=\"M0 0h24v24H0V0z\" fill=\"none\"/>\n",
              "    <path d=\"M18.56 5.44l.94 2.06.94-2.06 2.06-.94-2.06-.94-.94-2.06-.94 2.06-2.06.94zm-11 1L8.5 8.5l.94-2.06 2.06-.94-2.06-.94L8.5 2.5l-.94 2.06-2.06.94zm10 10l.94 2.06.94-2.06 2.06-.94-2.06-.94-.94-2.06-.94 2.06-2.06.94z\"/><path d=\"M17.41 7.96l-1.37-1.37c-.4-.4-.92-.59-1.43-.59-.52 0-1.04.2-1.43.59L10.3 9.45l-7.72 7.72c-.78.78-.78 2.05 0 2.83L4 21.41c.39.39.9.59 1.41.59.51 0 1.02-.2 1.41-.59l7.78-7.78 2.81-2.81c.8-.78.8-2.07 0-2.86zM5.41 20L4 18.59l7.72-7.72 1.47 1.35L5.41 20z\"/>\n",
              "  </svg>\n",
              "      </button>\n",
              "      \n",
              "  <style>\n",
              "    .colab-df-container {\n",
              "      display:flex;\n",
              "      flex-wrap:wrap;\n",
              "      gap: 12px;\n",
              "    }\n",
              "\n",
              "    .colab-df-convert {\n",
              "      background-color: #E8F0FE;\n",
              "      border: none;\n",
              "      border-radius: 50%;\n",
              "      cursor: pointer;\n",
              "      display: none;\n",
              "      fill: #1967D2;\n",
              "      height: 32px;\n",
              "      padding: 0 0 0 0;\n",
              "      width: 32px;\n",
              "    }\n",
              "\n",
              "    .colab-df-convert:hover {\n",
              "      background-color: #E2EBFA;\n",
              "      box-shadow: 0px 1px 2px rgba(60, 64, 67, 0.3), 0px 1px 3px 1px rgba(60, 64, 67, 0.15);\n",
              "      fill: #174EA6;\n",
              "    }\n",
              "\n",
              "    [theme=dark] .colab-df-convert {\n",
              "      background-color: #3B4455;\n",
              "      fill: #D2E3FC;\n",
              "    }\n",
              "\n",
              "    [theme=dark] .colab-df-convert:hover {\n",
              "      background-color: #434B5C;\n",
              "      box-shadow: 0px 1px 3px 1px rgba(0, 0, 0, 0.15);\n",
              "      filter: drop-shadow(0px 1px 2px rgba(0, 0, 0, 0.3));\n",
              "      fill: #FFFFFF;\n",
              "    }\n",
              "  </style>\n",
              "\n",
              "      <script>\n",
              "        const buttonEl =\n",
              "          document.querySelector('#df-fd5abdf9-23c8-4a9c-a9d8-1349494a7da6 button.colab-df-convert');\n",
              "        buttonEl.style.display =\n",
              "          google.colab.kernel.accessAllowed ? 'block' : 'none';\n",
              "\n",
              "        async function convertToInteractive(key) {\n",
              "          const element = document.querySelector('#df-fd5abdf9-23c8-4a9c-a9d8-1349494a7da6');\n",
              "          const dataTable =\n",
              "            await google.colab.kernel.invokeFunction('convertToInteractive',\n",
              "                                                     [key], {});\n",
              "          if (!dataTable) return;\n",
              "\n",
              "          const docLinkHtml = 'Like what you see? Visit the ' +\n",
              "            '<a target=\"_blank\" href=https://colab.research.google.com/notebooks/data_table.ipynb>data table notebook</a>'\n",
              "            + ' to learn more about interactive tables.';\n",
              "          element.innerHTML = '';\n",
              "          dataTable['output_type'] = 'display_data';\n",
              "          await google.colab.output.renderOutput(dataTable, element);\n",
              "          const docLink = document.createElement('div');\n",
              "          docLink.innerHTML = docLinkHtml;\n",
              "          element.appendChild(docLink);\n",
              "        }\n",
              "      </script>\n",
              "    </div>\n",
              "  </div>\n",
              "  "
            ]
          },
          "metadata": {},
          "execution_count": 6
        }
      ]
    },
    {
      "cell_type": "code",
      "source": [
        "#Printing the shape of the dataset\n",
        "shape = df_wine.shape #saves the shape of the dataset in variable shape\n",
        "print(\"Shape of the dataset:\")\n",
        "print(shape) #prints the shape"
      ],
      "metadata": {
        "colab": {
          "base_uri": "https://localhost:8080/"
        },
        "id": "3zQJPoAb0RTo",
        "outputId": "0e8d9bc0-84c7-47ec-980c-8dd778aa197b"
      },
      "id": "3zQJPoAb0RTo",
      "execution_count": 7,
      "outputs": [
        {
          "output_type": "stream",
          "name": "stdout",
          "text": [
            "Shape of the dataset:\n",
            "(1599, 12)\n"
          ]
        }
      ]
    },
    {
      "cell_type": "code",
      "execution_count": 8,
      "id": "7455adf6",
      "metadata": {
        "colab": {
          "base_uri": "https://localhost:8080/",
          "height": 416
        },
        "id": "7455adf6",
        "outputId": "5c8441d4-d227-415f-dd6d-14701750cd0c"
      },
      "outputs": [
        {
          "output_type": "stream",
          "name": "stdout",
          "text": [
            "Printing statstics of the wine dataset:\n"
          ]
        },
        {
          "output_type": "execute_result",
          "data": {
            "text/plain": [
              "       fixed acidity  volatile acidity  citric acid  residual sugar  \\\n",
              "count    1599.000000       1599.000000  1599.000000     1599.000000   \n",
              "mean        8.319637          0.527821     0.270976        2.538806   \n",
              "std         1.741096          0.179060     0.194801        1.409928   \n",
              "min         4.600000          0.120000     0.000000        0.900000   \n",
              "25%         7.100000          0.390000     0.090000        1.900000   \n",
              "50%         7.900000          0.520000     0.260000        2.200000   \n",
              "75%         9.200000          0.640000     0.420000        2.600000   \n",
              "max        15.900000          1.580000     1.000000       15.500000   \n",
              "\n",
              "         chlorides  free sulfur dioxide  total sulfur dioxide      density  \\\n",
              "count  1599.000000          1599.000000           1599.000000  1599.000000   \n",
              "mean      0.087467            15.874922             46.467792     0.996747   \n",
              "std       0.047065            10.460157             32.895324     0.001887   \n",
              "min       0.012000             1.000000              6.000000     0.990070   \n",
              "25%       0.070000             7.000000             22.000000     0.995600   \n",
              "50%       0.079000            14.000000             38.000000     0.996750   \n",
              "75%       0.090000            21.000000             62.000000     0.997835   \n",
              "max       0.611000            72.000000            289.000000     1.003690   \n",
              "\n",
              "                pH    sulphates      alcohol      quality  \n",
              "count  1599.000000  1599.000000  1599.000000  1599.000000  \n",
              "mean      3.311113     0.658149    10.422983     5.636023  \n",
              "std       0.154386     0.169507     1.065668     0.807569  \n",
              "min       2.740000     0.330000     8.400000     3.000000  \n",
              "25%       3.210000     0.550000     9.500000     5.000000  \n",
              "50%       3.310000     0.620000    10.200000     6.000000  \n",
              "75%       3.400000     0.730000    11.100000     6.000000  \n",
              "max       4.010000     2.000000    14.900000     8.000000  "
            ],
            "text/html": [
              "\n",
              "  <div id=\"df-b949dbe5-584d-4e38-a1d9-eaa8ccc31586\">\n",
              "    <div class=\"colab-df-container\">\n",
              "      <div>\n",
              "<style scoped>\n",
              "    .dataframe tbody tr th:only-of-type {\n",
              "        vertical-align: middle;\n",
              "    }\n",
              "\n",
              "    .dataframe tbody tr th {\n",
              "        vertical-align: top;\n",
              "    }\n",
              "\n",
              "    .dataframe thead th {\n",
              "        text-align: right;\n",
              "    }\n",
              "</style>\n",
              "<table border=\"1\" class=\"dataframe\">\n",
              "  <thead>\n",
              "    <tr style=\"text-align: right;\">\n",
              "      <th></th>\n",
              "      <th>fixed acidity</th>\n",
              "      <th>volatile acidity</th>\n",
              "      <th>citric acid</th>\n",
              "      <th>residual sugar</th>\n",
              "      <th>chlorides</th>\n",
              "      <th>free sulfur dioxide</th>\n",
              "      <th>total sulfur dioxide</th>\n",
              "      <th>density</th>\n",
              "      <th>pH</th>\n",
              "      <th>sulphates</th>\n",
              "      <th>alcohol</th>\n",
              "      <th>quality</th>\n",
              "    </tr>\n",
              "  </thead>\n",
              "  <tbody>\n",
              "    <tr>\n",
              "      <th>count</th>\n",
              "      <td>1599.000000</td>\n",
              "      <td>1599.000000</td>\n",
              "      <td>1599.000000</td>\n",
              "      <td>1599.000000</td>\n",
              "      <td>1599.000000</td>\n",
              "      <td>1599.000000</td>\n",
              "      <td>1599.000000</td>\n",
              "      <td>1599.000000</td>\n",
              "      <td>1599.000000</td>\n",
              "      <td>1599.000000</td>\n",
              "      <td>1599.000000</td>\n",
              "      <td>1599.000000</td>\n",
              "    </tr>\n",
              "    <tr>\n",
              "      <th>mean</th>\n",
              "      <td>8.319637</td>\n",
              "      <td>0.527821</td>\n",
              "      <td>0.270976</td>\n",
              "      <td>2.538806</td>\n",
              "      <td>0.087467</td>\n",
              "      <td>15.874922</td>\n",
              "      <td>46.467792</td>\n",
              "      <td>0.996747</td>\n",
              "      <td>3.311113</td>\n",
              "      <td>0.658149</td>\n",
              "      <td>10.422983</td>\n",
              "      <td>5.636023</td>\n",
              "    </tr>\n",
              "    <tr>\n",
              "      <th>std</th>\n",
              "      <td>1.741096</td>\n",
              "      <td>0.179060</td>\n",
              "      <td>0.194801</td>\n",
              "      <td>1.409928</td>\n",
              "      <td>0.047065</td>\n",
              "      <td>10.460157</td>\n",
              "      <td>32.895324</td>\n",
              "      <td>0.001887</td>\n",
              "      <td>0.154386</td>\n",
              "      <td>0.169507</td>\n",
              "      <td>1.065668</td>\n",
              "      <td>0.807569</td>\n",
              "    </tr>\n",
              "    <tr>\n",
              "      <th>min</th>\n",
              "      <td>4.600000</td>\n",
              "      <td>0.120000</td>\n",
              "      <td>0.000000</td>\n",
              "      <td>0.900000</td>\n",
              "      <td>0.012000</td>\n",
              "      <td>1.000000</td>\n",
              "      <td>6.000000</td>\n",
              "      <td>0.990070</td>\n",
              "      <td>2.740000</td>\n",
              "      <td>0.330000</td>\n",
              "      <td>8.400000</td>\n",
              "      <td>3.000000</td>\n",
              "    </tr>\n",
              "    <tr>\n",
              "      <th>25%</th>\n",
              "      <td>7.100000</td>\n",
              "      <td>0.390000</td>\n",
              "      <td>0.090000</td>\n",
              "      <td>1.900000</td>\n",
              "      <td>0.070000</td>\n",
              "      <td>7.000000</td>\n",
              "      <td>22.000000</td>\n",
              "      <td>0.995600</td>\n",
              "      <td>3.210000</td>\n",
              "      <td>0.550000</td>\n",
              "      <td>9.500000</td>\n",
              "      <td>5.000000</td>\n",
              "    </tr>\n",
              "    <tr>\n",
              "      <th>50%</th>\n",
              "      <td>7.900000</td>\n",
              "      <td>0.520000</td>\n",
              "      <td>0.260000</td>\n",
              "      <td>2.200000</td>\n",
              "      <td>0.079000</td>\n",
              "      <td>14.000000</td>\n",
              "      <td>38.000000</td>\n",
              "      <td>0.996750</td>\n",
              "      <td>3.310000</td>\n",
              "      <td>0.620000</td>\n",
              "      <td>10.200000</td>\n",
              "      <td>6.000000</td>\n",
              "    </tr>\n",
              "    <tr>\n",
              "      <th>75%</th>\n",
              "      <td>9.200000</td>\n",
              "      <td>0.640000</td>\n",
              "      <td>0.420000</td>\n",
              "      <td>2.600000</td>\n",
              "      <td>0.090000</td>\n",
              "      <td>21.000000</td>\n",
              "      <td>62.000000</td>\n",
              "      <td>0.997835</td>\n",
              "      <td>3.400000</td>\n",
              "      <td>0.730000</td>\n",
              "      <td>11.100000</td>\n",
              "      <td>6.000000</td>\n",
              "    </tr>\n",
              "    <tr>\n",
              "      <th>max</th>\n",
              "      <td>15.900000</td>\n",
              "      <td>1.580000</td>\n",
              "      <td>1.000000</td>\n",
              "      <td>15.500000</td>\n",
              "      <td>0.611000</td>\n",
              "      <td>72.000000</td>\n",
              "      <td>289.000000</td>\n",
              "      <td>1.003690</td>\n",
              "      <td>4.010000</td>\n",
              "      <td>2.000000</td>\n",
              "      <td>14.900000</td>\n",
              "      <td>8.000000</td>\n",
              "    </tr>\n",
              "  </tbody>\n",
              "</table>\n",
              "</div>\n",
              "      <button class=\"colab-df-convert\" onclick=\"convertToInteractive('df-b949dbe5-584d-4e38-a1d9-eaa8ccc31586')\"\n",
              "              title=\"Convert this dataframe to an interactive table.\"\n",
              "              style=\"display:none;\">\n",
              "        \n",
              "  <svg xmlns=\"http://www.w3.org/2000/svg\" height=\"24px\"viewBox=\"0 0 24 24\"\n",
              "       width=\"24px\">\n",
              "    <path d=\"M0 0h24v24H0V0z\" fill=\"none\"/>\n",
              "    <path d=\"M18.56 5.44l.94 2.06.94-2.06 2.06-.94-2.06-.94-.94-2.06-.94 2.06-2.06.94zm-11 1L8.5 8.5l.94-2.06 2.06-.94-2.06-.94L8.5 2.5l-.94 2.06-2.06.94zm10 10l.94 2.06.94-2.06 2.06-.94-2.06-.94-.94-2.06-.94 2.06-2.06.94z\"/><path d=\"M17.41 7.96l-1.37-1.37c-.4-.4-.92-.59-1.43-.59-.52 0-1.04.2-1.43.59L10.3 9.45l-7.72 7.72c-.78.78-.78 2.05 0 2.83L4 21.41c.39.39.9.59 1.41.59.51 0 1.02-.2 1.41-.59l7.78-7.78 2.81-2.81c.8-.78.8-2.07 0-2.86zM5.41 20L4 18.59l7.72-7.72 1.47 1.35L5.41 20z\"/>\n",
              "  </svg>\n",
              "      </button>\n",
              "      \n",
              "  <style>\n",
              "    .colab-df-container {\n",
              "      display:flex;\n",
              "      flex-wrap:wrap;\n",
              "      gap: 12px;\n",
              "    }\n",
              "\n",
              "    .colab-df-convert {\n",
              "      background-color: #E8F0FE;\n",
              "      border: none;\n",
              "      border-radius: 50%;\n",
              "      cursor: pointer;\n",
              "      display: none;\n",
              "      fill: #1967D2;\n",
              "      height: 32px;\n",
              "      padding: 0 0 0 0;\n",
              "      width: 32px;\n",
              "    }\n",
              "\n",
              "    .colab-df-convert:hover {\n",
              "      background-color: #E2EBFA;\n",
              "      box-shadow: 0px 1px 2px rgba(60, 64, 67, 0.3), 0px 1px 3px 1px rgba(60, 64, 67, 0.15);\n",
              "      fill: #174EA6;\n",
              "    }\n",
              "\n",
              "    [theme=dark] .colab-df-convert {\n",
              "      background-color: #3B4455;\n",
              "      fill: #D2E3FC;\n",
              "    }\n",
              "\n",
              "    [theme=dark] .colab-df-convert:hover {\n",
              "      background-color: #434B5C;\n",
              "      box-shadow: 0px 1px 3px 1px rgba(0, 0, 0, 0.15);\n",
              "      filter: drop-shadow(0px 1px 2px rgba(0, 0, 0, 0.3));\n",
              "      fill: #FFFFFF;\n",
              "    }\n",
              "  </style>\n",
              "\n",
              "      <script>\n",
              "        const buttonEl =\n",
              "          document.querySelector('#df-b949dbe5-584d-4e38-a1d9-eaa8ccc31586 button.colab-df-convert');\n",
              "        buttonEl.style.display =\n",
              "          google.colab.kernel.accessAllowed ? 'block' : 'none';\n",
              "\n",
              "        async function convertToInteractive(key) {\n",
              "          const element = document.querySelector('#df-b949dbe5-584d-4e38-a1d9-eaa8ccc31586');\n",
              "          const dataTable =\n",
              "            await google.colab.kernel.invokeFunction('convertToInteractive',\n",
              "                                                     [key], {});\n",
              "          if (!dataTable) return;\n",
              "\n",
              "          const docLinkHtml = 'Like what you see? Visit the ' +\n",
              "            '<a target=\"_blank\" href=https://colab.research.google.com/notebooks/data_table.ipynb>data table notebook</a>'\n",
              "            + ' to learn more about interactive tables.';\n",
              "          element.innerHTML = '';\n",
              "          dataTable['output_type'] = 'display_data';\n",
              "          await google.colab.output.renderOutput(dataTable, element);\n",
              "          const docLink = document.createElement('div');\n",
              "          docLink.innerHTML = docLinkHtml;\n",
              "          element.appendChild(docLink);\n",
              "        }\n",
              "      </script>\n",
              "    </div>\n",
              "  </div>\n",
              "  "
            ]
          },
          "metadata": {},
          "execution_count": 8
        }
      ],
      "source": [
        "#Printing the statistics of the wine dataset\n",
        "print(\"Printing statstics of the wine dataset:\")\n",
        "df_wine.describe(include='all') #describes the mean, std, etc.. for the dataset"
      ]
    },
    {
      "cell_type": "code",
      "source": [
        "#Value count of each species\n",
        "df_wine['density'].value_counts()"
      ],
      "metadata": {
        "colab": {
          "base_uri": "https://localhost:8080/"
        },
        "id": "dOO77crFHSWb",
        "outputId": "9a6a340f-b71c-4673-d558-dba0edda84a4"
      },
      "id": "dOO77crFHSWb",
      "execution_count": 9,
      "outputs": [
        {
          "output_type": "execute_result",
          "data": {
            "text/plain": [
              "0.99720    36\n",
              "0.99680    35\n",
              "0.99760    35\n",
              "0.99800    29\n",
              "0.99620    28\n",
              "           ..\n",
              "0.99684     1\n",
              "0.99764     1\n",
              "0.99473     1\n",
              "0.99320     1\n",
              "0.99651     1\n",
              "Name: density, Length: 436, dtype: int64"
            ]
          },
          "metadata": {},
          "execution_count": 9
        }
      ]
    },
    {
      "cell_type": "code",
      "source": [
        "#Printing the names of the columns of the dataset\n",
        "columns=df_wine.columns #saves the column names of the dataset in variable  columns\n",
        "print(\"Printing coloumn names  of the dataset:\")\n",
        "print(columns ) #prints the names of columns"
      ],
      "metadata": {
        "colab": {
          "base_uri": "https://localhost:8080/"
        },
        "id": "Y98xxo5I2lSZ",
        "outputId": "a016d448-2210-4769-b138-e25fbb231d6c"
      },
      "id": "Y98xxo5I2lSZ",
      "execution_count": 10,
      "outputs": [
        {
          "output_type": "stream",
          "name": "stdout",
          "text": [
            "Printing coloumn names  of the dataset:\n",
            "Index(['fixed acidity', 'volatile acidity', 'citric acid', 'residual sugar',\n",
            "       'chlorides', 'free sulfur dioxide', 'total sulfur dioxide', 'density',\n",
            "       'pH', 'sulphates', 'alcohol', 'quality'],\n",
            "      dtype='object')\n"
          ]
        }
      ]
    },
    {
      "cell_type": "code",
      "source": [
        "#Printing the unique values of species, sex, island\n",
        "#print(\"Unique species in penguin dataset: \",df_wine['fixed acidity'].unique()) \n",
        "#print(\"Unique sex in penguin dataset: \",df_wine['alcohol'].unique())\n",
        "#print(\"Unique island in penguin datasets: \",df_wine['pH'].unique())"
      ],
      "metadata": {
        "id": "41AaCEAs2xpz"
      },
      "id": "41AaCEAs2xpz",
      "execution_count": 11,
      "outputs": []
    },
    {
      "cell_type": "code",
      "execution_count": 12,
      "id": "2f80531e",
      "metadata": {
        "colab": {
          "base_uri": "https://localhost:8080/"
        },
        "id": "2f80531e",
        "outputId": "ea9efa74-d009-4414-87d5-b41f4483b78b"
      },
      "outputs": [
        {
          "output_type": "stream",
          "name": "stdout",
          "text": [
            "Printing datatypes of each coloums in the dataset:\n",
            "fixed acidity           float64\n",
            "volatile acidity        float64\n",
            "citric acid             float64\n",
            "residual sugar          float64\n",
            "chlorides               float64\n",
            "free sulfur dioxide     float64\n",
            "total sulfur dioxide    float64\n",
            "density                 float64\n",
            "pH                      float64\n",
            "sulphates               float64\n",
            "alcohol                 float64\n",
            "quality                   int64\n",
            "dtype: object\n"
          ]
        }
      ],
      "source": [
        "#Printing the datatypes of various columns\n",
        "types=df_wine.dtypes #saves the datatypes of the dataset in variable types\n",
        "print(\"Printing datatypes of each coloums in the dataset:\")\n",
        "print(types)  #prints the different datatypes n of columns"
      ]
    },
    {
      "cell_type": "markdown",
      "source": [
        "###CHECKING NULL VALUES"
      ],
      "metadata": {
        "id": "mO4ZfgYvNH4z"
      },
      "id": "mO4ZfgYvNH4z"
    },
    {
      "cell_type": "code",
      "source": [
        "#Checking if there are any null values in each of the rows by using axis=0\n",
        "df_wine.isnull().sum(axis=0)\n"
      ],
      "metadata": {
        "colab": {
          "base_uri": "https://localhost:8080/"
        },
        "id": "rTz98UP03p1V",
        "outputId": "6a077afb-7e46-45d0-81ac-4e6979672414"
      },
      "id": "rTz98UP03p1V",
      "execution_count": 13,
      "outputs": [
        {
          "output_type": "execute_result",
          "data": {
            "text/plain": [
              "fixed acidity           0\n",
              "volatile acidity        0\n",
              "citric acid             0\n",
              "residual sugar          0\n",
              "chlorides               0\n",
              "free sulfur dioxide     0\n",
              "total sulfur dioxide    0\n",
              "density                 0\n",
              "pH                      0\n",
              "sulphates               0\n",
              "alcohol                 0\n",
              "quality                 0\n",
              "dtype: int64"
            ]
          },
          "metadata": {},
          "execution_count": 13
        }
      ]
    },
    {
      "cell_type": "markdown",
      "source": [
        "###DATA VISUALIZATION"
      ],
      "metadata": {
        "id": "hV9l3qaxNC0O"
      },
      "id": "hV9l3qaxNC0O"
    },
    {
      "cell_type": "code",
      "source": [
        "#bar plot for count of quality of wine\n",
        "fig=plt.figure(figsize=(12,8)) #size of the figure\n",
        "sn.countplot(df_wine['quality']) #counts the total value and plots "
      ],
      "metadata": {
        "colab": {
          "base_uri": "https://localhost:8080/",
          "height": 514
        },
        "id": "6uq7D4IqNZOk",
        "outputId": "aa9579d1-9679-4883-d5ab-b45079b3d1c6"
      },
      "id": "6uq7D4IqNZOk",
      "execution_count": 14,
      "outputs": [
        {
          "output_type": "stream",
          "name": "stderr",
          "text": [
            "/usr/local/lib/python3.7/dist-packages/seaborn/_decorators.py:43: FutureWarning: Pass the following variable as a keyword arg: x. From version 0.12, the only valid positional argument will be `data`, and passing other arguments without an explicit keyword will result in an error or misinterpretation.\n",
            "  FutureWarning\n"
          ]
        },
        {
          "output_type": "execute_result",
          "data": {
            "text/plain": [
              "<matplotlib.axes._subplots.AxesSubplot at 0x7f20d1f18c10>"
            ]
          },
          "metadata": {},
          "execution_count": 14
        },
        {
          "output_type": "display_data",
          "data": {
            "text/plain": [
              "<Figure size 864x576 with 1 Axes>"
            ],
            "image/png": "[encoded data removed]"
          },
          "metadata": {
            "needs_background": "light"
          }
        }
      ]
    },
    {
      "cell_type": "code",
      "source": [
        "#Plotting a pie graph to show the distribution of different quality of wine \n",
        "fig=plt.figure(figsize=(12,8)) #size of the figure\n",
        "df_wine['quality'].value_counts().plot(kind='pie') #value counts the each type of speicies are represnts it in form of a pie chart"
      ],
      "metadata": {
        "colab": {
          "base_uri": "https://localhost:8080/",
          "height": 483
        },
        "id": "m0qxTLapK0IQ",
        "outputId": "e99312a9-1652-4b15-d679-979286f8eee2"
      },
      "id": "m0qxTLapK0IQ",
      "execution_count": 15,
      "outputs": [
        {
          "output_type": "execute_result",
          "data": {
            "text/plain": [
              "<matplotlib.axes._subplots.AxesSubplot at 0x7f20d10313d0>"
            ]
          },
          "metadata": {},
          "execution_count": 15
        },
        {
          "output_type": "display_data",
          "data": {
            "text/plain": [
              "<Figure size 864x576 with 1 Axes>"
            ],
            "image/png": "[encoded data removed]"
          },
          "metadata": {}
        }
      ]
    },
    {
      "cell_type": "code",
      "source": [
        "#scatter plot for Citric Aicd vs Alcohol\n",
        "fig=plt.figure(figsize=(12,8)) #size of the figure\n",
        "plt.plot(df_wine['citric acid'],df_wine['alcohol'],'r.')\n",
        "plt.title('citric acid vs Alcohol') #titles the plot\n",
        "plt.xlabel('citric acid') #labes the x-axis\n",
        "plt.ylabel('Alcohol') #labes the y-axis\n",
        "plt.show()"
      ],
      "metadata": {
        "colab": {
          "base_uri": "https://localhost:8080/",
          "height": 460
        },
        "id": "sR-H7Xt4LZ_g",
        "outputId": "a917041e-549e-46ef-b09d-c143841bb1a3"
      },
      "id": "sR-H7Xt4LZ_g",
      "execution_count": 16,
      "outputs": [
        {
          "output_type": "display_data",
          "data": {
            "text/plain": [
              "<Figure size 864x576 with 1 Axes>"
            ],
            "image/png": "[encoded data removed]"
          },
          "metadata": {
            "needs_background": "light"
          }
        }
      ]
    },
    {
      "cell_type": "code",
      "source": [
        "#scatter plot for total sulfur dioxide to sulphates\n",
        "fig=plt.figure(figsize=(12,8)) #size of the figure\n",
        "plt.plot(df_wine['total sulfur dioxide'],df_wine['sulphates'],'b.')\n",
        "plt.title('Total Sulfur Dioxide vs Sulphates')#titles the plot\n",
        "plt.xlabel('Total Sulfur Dioxide') #labes the x-axis\n",
        "plt.ylabel('Sulphates') #labes the y-axis\n",
        "plt.show()"
      ],
      "metadata": {
        "colab": {
          "base_uri": "https://localhost:8080/",
          "height": 452
        },
        "id": "cawqTTWlL4Ym",
        "outputId": "acd3f4f6-5784-41e4-a8cd-000281f327b7"
      },
      "id": "cawqTTWlL4Ym",
      "execution_count": 17,
      "outputs": [
        {
          "output_type": "display_data",
          "data": {
            "text/plain": [
              "<Figure size 864x576 with 1 Axes>"
            ],
            "image/png": "[encoded data removed]"
          },
          "metadata": {
            "needs_background": "light"
          }
        }
      ]
    },
    {
      "cell_type": "code",
      "source": [
        "#correlation matrix\n",
        "matrix = df_wine.corr() #finds correlation \n",
        "print(matrix)\n",
        "\n",
        "\n",
        "plt.figure(figsize=(12,10)) #fig size\n",
        "sn.heatmap(df_wine.corr()) #plots the heat map\n",
        "plt.title('Correlation Heat Map') #titles the plot\n",
        "plt.show()"
      ],
      "metadata": {
        "colab": {
          "base_uri": "https://localhost:8080/",
          "height": 1000
        },
        "id": "OR1Z3IANKfub",
        "outputId": "30389940-fb0f-43bb-cfe1-7f9b1ba445d2"
      },
      "id": "OR1Z3IANKfub",
      "execution_count": 18,
      "outputs": [
        {
          "output_type": "stream",
          "name": "stdout",
          "text": [
            "                      fixed acidity  volatile acidity  citric acid  \\\n",
            "fixed acidity              1.000000         -0.256131     0.671703   \n",
            "volatile acidity          -0.256131          1.000000    -0.552496   \n",
            "citric acid                0.671703         -0.552496     1.000000   \n",
            "residual sugar             0.114777          0.001918     0.143577   \n",
            "chlorides                  0.093705          0.061298     0.203823   \n",
            "free sulfur dioxide       -0.153794         -0.010504    -0.060978   \n",
            "total sulfur dioxide      -0.113181          0.076470     0.035533   \n",
            "density                    0.668047          0.022026     0.364947   \n",
            "pH                        -0.682978          0.234937    -0.541904   \n",
            "sulphates                  0.183006         -0.260987     0.312770   \n",
            "alcohol                   -0.061668         -0.202288     0.109903   \n",
            "quality                    0.124052         -0.390558     0.226373   \n",
            "\n",
            "                      residual sugar  chlorides  free sulfur dioxide  \\\n",
            "fixed acidity               0.114777   0.093705            -0.153794   \n",
            "volatile acidity            0.001918   0.061298            -0.010504   \n",
            "citric acid                 0.143577   0.203823            -0.060978   \n",
            "residual sugar              1.000000   0.055610             0.187049   \n",
            "chlorides                   0.055610   1.000000             0.005562   \n",
            "free sulfur dioxide         0.187049   0.005562             1.000000   \n",
            "total sulfur dioxide        0.203028   0.047400             0.667666   \n",
            "density                     0.355283   0.200632            -0.021946   \n",
            "pH                         -0.085652  -0.265026             0.070377   \n",
            "sulphates                   0.005527   0.371260             0.051658   \n",
            "alcohol                     0.042075  -0.221141            -0.069408   \n",
            "quality                     0.013732  -0.128907            -0.050656   \n",
            "\n",
            "                      total sulfur dioxide   density        pH  sulphates  \\\n",
            "fixed acidity                    -0.113181  0.668047 -0.682978   0.183006   \n",
            "volatile acidity                  0.076470  0.022026  0.234937  -0.260987   \n",
            "citric acid                       0.035533  0.364947 -0.541904   0.312770   \n",
            "residual sugar                    0.203028  0.355283 -0.085652   0.005527   \n",
            "chlorides                         0.047400  0.200632 -0.265026   0.371260   \n",
            "free sulfur dioxide               0.667666 -0.021946  0.070377   0.051658   \n",
            "total sulfur dioxide              1.000000  0.071269 -0.066495   0.042947   \n",
            "density                           0.071269  1.000000 -0.341699   0.148506   \n",
            "pH                               -0.066495 -0.341699  1.000000  -0.196648   \n",
            "sulphates                         0.042947  0.148506 -0.196648   1.000000   \n",
            "alcohol                          -0.205654 -0.496180  0.205633   0.093595   \n",
            "quality                          -0.185100 -0.174919 -0.057731   0.251397   \n",
            "\n",
            "                       alcohol   quality  \n",
            "fixed acidity        -0.061668  0.124052  \n",
            "volatile acidity     -0.202288 -0.390558  \n",
            "citric acid           0.109903  0.226373  \n",
            "residual sugar        0.042075  0.013732  \n",
            "chlorides            -0.221141 -0.128907  \n",
            "free sulfur dioxide  -0.069408 -0.050656  \n",
            "total sulfur dioxide -0.205654 -0.185100  \n",
            "density              -0.496180 -0.174919  \n",
            "pH                    0.205633 -0.057731  \n",
            "sulphates             0.093595  0.251397  \n",
            "alcohol               1.000000  0.476166  \n",
            "quality               0.476166  1.000000  \n"
          ]
        },
        {
          "output_type": "display_data",
          "data": {
            "text/plain": [
              "<Figure size 864x720 with 2 Axes>"
            ],
            "image/png": "[encoded data removed]"
          },
          "metadata": {
            "needs_background": "light"
          }
        }
      ]
    },
    {
      "cell_type": "markdown",
      "source": [
        "###NORMALIZATION OF DATA"
      ],
      "metadata": {
        "id": "_PbvqbQPNOXd"
      },
      "id": "_PbvqbQPNOXd"
    },
    {
      "cell_type": "code",
      "execution_count": 19,
      "id": "fd3f9faf",
      "metadata": {
        "colab": {
          "base_uri": "https://localhost:8080/",
          "height": 261
        },
        "id": "fd3f9faf",
        "outputId": "0264d985-f9e9-4645-c7ae-90ff47506f33"
      },
      "outputs": [
        {
          "output_type": "execute_result",
          "data": {
            "text/plain": [
              "'#Maximum and Minimum values of each column\\n#min_max_scaled = df_wine.copy() #creating a copy so that no changes in original data\\n#min_values=[]\\n#max_values=[]\\n#for column in min_max_scaled.columns:\\n    #if column==\\'fixed acidity \\' or column==\\'volatile acidity\\' or column==\\'citric acid\\' or column==\\'residual sugar\\'or column==\\'chlorides  \\'or column==\\'free sulfur dioxide\\'or column==\\'density \\' or column==\\'pH\\' or column==\\'sulphates\\' or column==\\'alcohol \\':\\n        min_values.append(min_max_scaled[column].min())\\n        max_values.append(min_max_scaled[column].max())\\nprint(\"Minimum Values of fixed acidity   {1},volatile acidity {2},citric acid {3} ,residual sugar {4}, chlorides {5},free sulfur dioxide{6},density{7},pH{8},sulphates{9},alcohol{10}\\'\\n\" , min_values) #prints the  minimum values of the respective attributes\\nprint(\"Maximum Values of fixed acidity  ,volatile acidity,citric acid,residual sugar, chlorides,free sulfur dioxide,density,pH,sulphates, alcohol\\'\\n\", max_values) #prints the  maximum values of the respective attributes'"
            ],
            "application/vnd.google.colaboratory.intrinsic+json": {
              "type": "string"
            }
          },
          "metadata": {},
          "execution_count": 19
        }
      ],
      "source": [
        "\"\"\"#Maximum and Minimum values of each column\n",
        "#min_max_scaled = df_wine.copy() #creating a copy so that no changes in original data\n",
        "#min_values=[]\n",
        "#max_values=[]\n",
        "#for column in min_max_scaled.columns:\n",
        "    #if column=='fixed acidity ' or column=='volatile acidity' or column=='citric acid' or column=='residual sugar'or column=='chlorides  'or column=='free sulfur dioxide'or column=='density ' or column=='pH' or column=='sulphates' or column=='alcohol ':\n",
        "        min_values.append(min_max_scaled[column].min())\n",
        "        max_values.append(min_max_scaled[column].max())\n",
        "print(\"Minimum Values of fixed acidity   {1},volatile acidity {2},citric acid {3} ,residual sugar {4}, chlorides {5},free sulfur dioxide{6},density{7},pH{8},sulphates{9},alcohol{10}'\\n\" , min_values) #prints the  minimum values of the respective attributes\n",
        "print(\"Maximum Values of fixed acidity  ,volatile acidity,citric acid,residual sugar, chlorides,free sulfur dioxide,density,pH,sulphates, alcohol'\\n\", max_values) #prints the  maximum values of the respective attributes\"\"\""
      ]
    },
    {
      "cell_type": "code",
      "execution_count": 20,
      "id": "c9c28419",
      "metadata": {
        "id": "c9c28419",
        "colab": {
          "base_uri": "https://localhost:8080/",
          "height": 105
        },
        "outputId": "303d139b-5406-46d6-b3b7-a4c0dd97c06f"
      },
      "outputs": [
        {
          "output_type": "execute_result",
          "data": {
            "text/plain": [
              "\"Apply normalization techniques using minmax scalar transform\\nfor column in min_max_scaled.columns:\\n    if column=='fixed acidity' or column=='bill_depth_mm' or column=='bill_length_mm' or column=='body_mass_g':\\n        min_max_scaled[column] = (min_max_scaled[column] - min_max_scaled[column].min()) / (min_max_scaled[column].max() - min_max_scaled[column].min())    \\n\""
            ],
            "application/vnd.google.colaboratory.intrinsic+json": {
              "type": "string"
            }
          },
          "metadata": {},
          "execution_count": 20
        }
      ],
      "source": [
        "\"\"\"Apply normalization techniques using minmax scalar transform\n",
        "for column in min_max_scaled.columns:\n",
        "    if column=='fixed acidity' or column=='bill_depth_mm' or column=='bill_length_mm' or column=='body_mass_g':\n",
        "        min_max_scaled[column] = (min_max_scaled[column] - min_max_scaled[column].min()) / (min_max_scaled[column].max() - min_max_scaled[column].min())    \n",
        "\"\"\""
      ]
    },
    {
      "cell_type": "code",
      "source": [
        "# Display the normalised data\n",
        "#print(min_max_scaled)"
      ],
      "metadata": {
        "id": "_1VcQlMr6hTE"
      },
      "id": "_1VcQlMr6hTE",
      "execution_count": 21,
      "outputs": []
    },
    {
      "cell_type": "markdown",
      "source": [
        "###LINEAR REGRESSION MODEL USING OLS"
      ],
      "metadata": {
        "id": "K8WvPRoZQIjZ"
      },
      "id": "K8WvPRoZQIjZ"
    },
    {
      "cell_type": "code",
      "execution_count": 22,
      "id": "3786a663",
      "metadata": {
        "id": "3786a663"
      },
      "outputs": [],
      "source": [
        "df_wine = (df_wine-df_wine.min())/(df_wine.max()-df_wine.min())"
      ]
    },
    {
      "cell_type": "code",
      "execution_count": 23,
      "id": "cb32ffcc",
      "metadata": {
        "id": "cb32ffcc"
      },
      "outputs": [],
      "source": [
        "#initializing the X and Y\n",
        "X = df_wine.loc[:,df_wine.columns!='alcohol']\n",
        "# Note that this will make the last entry in the weights vector the bias term\n",
        "X['bias'] = np.ones(X.shape[0])\n",
        "y = df_wine['alcohol']\n",
        "\n"
      ]
    },
    {
      "cell_type": "code",
      "source": [
        "#test train spliting x and y such that 80%data is training data while remaining 20%is test data\n",
        "#test data\n",
        "x_train_i = np.floor(0.8*df_wine.shape[0]) #splits the train data into 80%\n",
        "X_train = X.loc[0:x_train_i] \n",
        "X_test = X.loc[x_train_i+1:df_wine.shape[0]] #reamining 20% as the test data\n",
        "\n",
        "#train data\n",
        "y_train_i = np.floor(0.8*df_wine.shape[0]) #splits the train data into 80%\n",
        "y_train = y.loc[0:y_train_i]\n",
        "y_test = y.loc[y_train_i+1:y.shape[0]]#remaining 20% as the test data"
      ],
      "metadata": {
        "id": "Sgv8coBO8BHR"
      },
      "id": "Sgv8coBO8BHR",
      "execution_count": 24,
      "outputs": []
    },
    {
      "cell_type": "code",
      "source": [
        "#printing the shape of the splitted data\n",
        "\n",
        "print('shape of X_train is: '+str(X_train.shape))\n",
        "print(' shape of X_test is: '+str(X_test.shape))\n",
        "print(' shape of y_train is: '+str(y_train.shape))\n",
        "print('shape of y_test is: '+str(y_test.shape))"
      ],
      "metadata": {
        "colab": {
          "base_uri": "https://localhost:8080/"
        },
        "id": "nNuqQSoD9jqh",
        "outputId": "1e27e996-68ea-4bfb-e096-1337a3b9a015"
      },
      "id": "nNuqQSoD9jqh",
      "execution_count": 25,
      "outputs": [
        {
          "output_type": "stream",
          "name": "stdout",
          "text": [
            "shape of X_train is: (1280, 12)\n",
            " shape of X_test is: (319, 12)\n",
            " shape of y_train is: (1280,)\n",
            "shape of y_test is: (319,)\n"
          ]
        }
      ]
    },
    {
      "cell_type": "code",
      "source": [
        "#defining a ols fucntion to calculate weights\n",
        "\n",
        "def ols_weights(X,y):\n",
        "    w = np.dot(np.dot(np.linalg.inv(np.dot((X.T),X)),X.T),y)\n",
        "    return w\n",
        "\n",
        "  "
      ],
      "metadata": {
        "id": "1mlpeVM6QGzZ"
      },
      "id": "1mlpeVM6QGzZ",
      "execution_count": 26,
      "outputs": []
    },
    {
      "cell_type": "code",
      "source": [
        "updated_w = ols_weights(X_train,y_train)\n",
        "#updates the weight each time\n",
        "print(updated_w)"
      ],
      "metadata": {
        "colab": {
          "base_uri": "https://localhost:8080/"
        },
        "id": "G64yuVAW_YuG",
        "outputId": "9d1108d3-933c-43a0-fc4a-76e096188214"
      },
      "id": "G64yuVAW_YuG",
      "execution_count": 27,
      "outputs": [
        {
          "output_type": "stream",
          "name": "stdout",
          "text": [
            "[ 0.88828121  0.16569405  0.12366803  0.66794222 -0.01323321 -0.01204942\n",
            " -0.06855743 -1.21939472  0.70641751  0.20899804  0.1909163   0.01503135]\n"
          ]
        }
      ]
    },
    {
      "cell_type": "code",
      "source": [
        "#defining a ols predict to calculate the predcited values of the model\n",
        "def ols_predict(X,model):\n",
        "    return (model.T*X).sum(axis=1)\n",
        "prediction = ols_predict(X_test,updated_w)"
      ],
      "metadata": {
        "id": "1RyMNigA9rF-"
      },
      "id": "1RyMNigA9rF-",
      "execution_count": 28,
      "outputs": []
    },
    {
      "cell_type": "code",
      "source": [
        "#checking for train error\n",
        "\n",
        "train_error = np.sum(np.square(y_train-prediction))/len(prediction) #train error\n",
        "print('Train error is: '+str(train_error))"
      ],
      "metadata": {
        "colab": {
          "base_uri": "https://localhost:8080/"
        },
        "id": "T_m4gcWm9uFa",
        "outputId": "1a9080ff-215f-4627-824c-d25f81ef094e"
      },
      "id": "T_m4gcWm9uFa",
      "execution_count": 29,
      "outputs": [
        {
          "output_type": "stream",
          "name": "stdout",
          "text": [
            "Train error is: 0.0\n"
          ]
        }
      ]
    },
    {
      "cell_type": "code",
      "source": [
        "import math\n",
        "MSE = np.square(np.subtract(y_train,y_train-prediction)).mean()\n",
        "RMSE = math.sqrt(MSE)\n",
        "print(\"Root Mean Square Error:\\n\")\n",
        "print(RMSE) "
      ],
      "metadata": {
        "colab": {
          "base_uri": "https://localhost:8080/"
        },
        "id": "f0mxyjrEE8lw",
        "outputId": "24625c84-0586-4bf9-c987-42546d6dddc1"
      },
      "id": "f0mxyjrEE8lw",
      "execution_count": 30,
      "outputs": [
        {
          "output_type": "stream",
          "name": "stdout",
          "text": [
            "Root Mean Square Error:\n",
            "\n",
            "nan\n"
          ]
        }
      ]
    },
    {
      "cell_type": "code",
      "execution_count": 31,
      "id": "be86d2ef",
      "metadata": {
        "id": "be86d2ef",
        "colab": {
          "base_uri": "https://localhost:8080/",
          "height": 554
        },
        "outputId": "a766df7a-9bd1-4761-a6b8-c011b4bb71a3"
      },
      "outputs": [
        {
          "output_type": "display_data",
          "data": {
            "text/plain": [
              "<Figure size 864x720 with 1 Axes>"
            ],
            "image/png": "[encoded data removed]"
          },
          "metadata": {
            "needs_background": "light"
          }
        }
      ],
      "source": [
        "#plot the linear regression for predicted alcohol vs actual alcohol\n",
        "plt.figure(figsize=(12,10))\n",
        "plt.plot(prediction,y_test,'r.')\n",
        "plt.title('Predicted Alcohol vs Actual Alcohol')\n",
        "plt.xlabel('Predicted Alcohol')\n",
        "plt.ylabel('Actual Alcohol')\n",
        "plt.plot([0,1])\n",
        "plt.show()"
      ]
    }
  ],
  "metadata": {
    "kernelspec": {
      "display_name": "Python 3 (ipykernel)",
      "language": "python",
      "name": "python3"
    },
    "language_info": {
      "codemirror_mode": {
        "name": "ipython",
        "version": 3
      },
      "file_extension": ".py",
      "mimetype": "text/x-python",
      "name": "python",
      "nbconvert_exporter": "python",
      "pygments_lexer": "ipython3",
      "version": "3.9.7"
    },
    "colab": {
      "name": "pruthvi_geedh_assignment2_part2.ipynb",
      "provenance": [],
      "collapsed_sections": []
    }
  },
  "nbformat": 4,
  "nbformat_minor": 5
}